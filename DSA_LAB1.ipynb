{
 "cells": [
  {
   "cell_type": "markdown",
   "metadata": {},
   "source": [
    " * Name: Myk Angelo M. Magsipoc\n",
    " * CYS: BSCPE 2-3\n",
    " * Subject: Data Structure and Algorithm\n",
    " * Lab Activity: Python Review\n",
    " * Deadline: September 22, 2024 11:59 PM"
   ]
  },
  {
   "cell_type": "markdown",
   "id": "68b1e096",
   "metadata": {},
   "source": [
    "# EXERCISE 1: Temperature Converter\n",
    "Create a program that converts temperature Celcius and Fahrenheit. \n",
    "\n",
    "Instruction:\n",
    "1. Ask the user to input a temperature.\n",
    "2. Ask the user to select the conversion type: from Celsius to Fahrenheit or from Fahrenheit to Celsius\n",
    "3. Perform the appropriate conversion and print the result."
   ]
  },
  {
   "cell_type": "code",
   "execution_count": null,
   "id": "bae06b17",
   "metadata": {},
   "outputs": [],
   "source": [
    "# Prompt the user to enter a temperature for conversion\n",
    "input_temp = float(input(\"Please enter a temperature for conversion: \"))\n",
    "\n",
    "# Prompt the user to enter the unit of the temperature (C for Celsius, F for Fahrenheit)\n",
    "conversion_type = input(\"Please select the conversion type: (type C if from Fahrenheit to Celcius or type F if from Celcius to Fahrenheit): \")\n",
    "\n",
    "# Check if the user wants to convert from Fahrenheit to Celsius\n",
    "if conversion_type.upper() == \"C\":\n",
    "    # Calculate the temperature in Celsius\n",
    "    temp_celsius = (input_temp - 32) * 5/9\n",
    "    print(f\"The temperature {input_temp:.2f}°F converted to Celsius is: {temp_celsius:.2f}°C\")\n",
    "\n",
    "# Check if the user wants to convert from Celsius to Fahrenheit\n",
    "elif conversion_type.upper() == \"F\":\n",
    "    # Calculate the temperature in Fahrenheit\n",
    "    temp_fahrenheit = input_temp * 1.8 + 32\n",
    "    print(f\"The temperature {input_temp:.2f}°C converted to Fahrenheit is: {temp_fahrenheit:.2f}°F\")\n",
    "\n",
    "# If the user enters an invalid conversion type, print an error message\n",
    "else:\n",
    "    print(\"Invalid conversion type. Please enter C for Celsius or F for Fahrenheit.\")"
   ]
  },
  {
   "cell_type": "markdown",
   "id": "7ef5687b",
   "metadata": {},
   "source": [
    "# EXERCISE 2: Ohm's Law Calculator\n",
    "Instruction:\n",
    "1. Ask the user what they want to calculate: Voltage, Current, or Resistance.\n",
    "2. Based on their choice, prompt the user to input the appropriate values.\n",
    "3. Use Ohm's Law to calculate the missing variable and display the result.\n",
    "4. Handle cases where division by zero might occur."
   ]
  },
  {
   "cell_type": "code",
   "execution_count": null,
   "id": "03cccb75",
   "metadata": {},
   "outputs": [],
   "source": [
    "# Prompt the user to select what they want to calculate: Voltage, Current, or Resistance\n",
    "calc_VIR = input(\"Select what you want to calculate: Voltage, Current, or Resistance: \")\n",
    "\n",
    "try:\n",
    "    # If the user chooses to calculate Voltage\n",
    "    if calc_VIR == \"Voltage\":\n",
    "        I_value = float(input(\"Enter the Current (in Amperes): \"))\n",
    "        R_value = float(input(\"Enter the Resistance (in Ohms): \"))\n",
    "        # Calculate the Voltage using Ohm's Law: V = I * R\n",
    "        result = I_value * R_value\n",
    "        print(f\"The total Voltage is equal to: {result:.2f} Volts\")\n",
    "\n",
    "    # If the user chooses to calculate Current\n",
    "    elif calc_VIR == \"Current\":\n",
    "        V_value = float(input(\"Enter the Voltage (in Volts): \"))\n",
    "        R_value = float(input(\"Enter the Resistance (in Ohms): \"))\n",
    "        # Check if the resistance is zero to avoid division by zero\n",
    "        if R_value == 0:\n",
    "            print(\"Resistance cannot be zero when calculating Current.\")\n",
    "        else:\n",
    "            # Calculate the Current using Ohm's Law: I = V / R\n",
    "            result = V_value / R_value\n",
    "            print(f\"The total Current is equal to: {result:.2f} Amperes\")\n",
    "    \n",
    "    # If the user chooses to calculate Resistance\n",
    "    elif calc_VIR == \"Resistance\":\n",
    "        V_value = float(input(\"Enter the Voltage (in Volts): \"))\n",
    "        I_value = float(input(\"Enter the Current (in Amperes): \"))\n",
    "        # Check if the current is zero to avoid division by zero\n",
    "        if I_value == 0:\n",
    "            print(\"Current cannot be zero when calculating Resistance.\")\n",
    "        else:\n",
    "            # Calculate the Resistance using Ohm's Law: R = V / I\n",
    "            result = V_value / I_value\n",
    "            print(f\"The total Resistance is equal to: {result:.2f} Ohms\")\n",
    "\n",
    "    else:\n",
    "        print(\"Invalid choice. Please select either 'Voltage', 'Current', or 'Resistance'.\")\n",
    "\n",
    "# Catch ValueError if the input is not a valid number (float conversion fails)\n",
    "except ValueError:\n",
    "    print(\"Invalid input. Please enter numeric values.\")\n",
    "\n"
   ]
  },
  {
   "cell_type": "markdown",
   "id": "54b82cc2",
   "metadata": {},
   "source": [
    "# EXERCISE 3: Diamond Shape (Advance Topic)\n",
    "* Write a python function named print_diamond that takes an odd integer n as an argument and prints a diamond shape with a width of n using the * character.\n",
    "\n",
    "* For n = 5 the output should be:\n",
    "    <!-- *\n",
    "        ***\n",
    "       *****\n",
    "        ***\n",
    "         * -->\n",
    "* Note: If an even number is passed, the function should return \"Please provide an odd integer.\"\n"
   ]
  },
  {
   "cell_type": "code",
   "execution_count": null,
   "id": "fc916ef1",
   "metadata": {},
   "outputs": [],
   "source": [
    "\n",
    "def print_diamond(total_n):\n",
    "    # Check the total number if it is an even number. \n",
    "    if total_n % 2 == 0: return \"Please provide an odd integer.\"\n",
    "    \n",
    "    # Upper part including the middle row\n",
    "    for i in range(total_n//2 + 1): # Loop from 0 to half of total_n (inclusive), which covers the top half of the diamond.\n",
    "        print(\" \" * (total_n//2 - i) + \"*\" * (2 * i + 1))  # Print spaces to center the stars. The number of spaces decreases as 'i' increases.\n",
    "    \n",
    "    # Lower part\n",
    "    for i in range(total_n//2 - 1, -1, -1): # Loop from one row before the middle, counting down to the top.\n",
    "        print(\" \" * (total_n//2 - i) + \"*\" * (2 * i + 1)) # Print spaces and stars symmetrically, similar to the upper half but in reverse.\n",
    "\n",
    "# Prompt the user to input the total number for rows\n",
    "total_n = int(input(\"Enter an odd number: \"))\n",
    "# Call the function with the user's input\n",
    "print_diamond(total_n)\n"
   ]
  },
  {
   "cell_type": "code",
   "execution_count": null,
   "id": "87fd5416",
   "metadata": {},
   "outputs": [],
   "source": []
  }
 ],
 "metadata": {
  "kernelspec": {
   "display_name": "Python 3 (ipykernel)",
   "language": "python",
   "name": "python3"
  },
  "language_info": {
   "codemirror_mode": {
    "name": "ipython",
    "version": 3
   },
   "file_extension": ".py",
   "mimetype": "text/x-python",
   "name": "python",
   "nbconvert_exporter": "python",
   "pygments_lexer": "ipython3",
   "version": "3.12.2"
  }
 },
 "nbformat": 4,
 "nbformat_minor": 5
}
